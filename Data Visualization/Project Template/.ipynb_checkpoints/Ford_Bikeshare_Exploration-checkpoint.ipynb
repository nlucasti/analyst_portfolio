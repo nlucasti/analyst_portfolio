{
 "cells": [
  {
   "cell_type": "markdown",
   "metadata": {},
   "source": [
    "# (Dataset Exploration Title)\n",
    "## by (your name here)\n",
    "\n",
    "## Preliminary Wrangling\n",
    "\n",
    "> Briefly introduce your dataset here."
   ]
  },
  {
   "cell_type": "code",
   "execution_count": 1,
   "metadata": {},
   "outputs": [],
   "source": [
    "# import all packages and set plots to be embedded inline\n",
    "import numpy as np\n",
    "import pandas as pd\n",
    "import matplotlib.pyplot as plt\n",
    "import seaborn as sb\n",
    "from geopy.distance import geodesic\n",
    "from datetime import date\n",
    "import calendar\n",
    "%matplotlib inline"
   ]
  },
  {
   "cell_type": "markdown",
   "metadata": {},
   "source": [
    "> Load in your dataset and describe its properties through the questions below.\n",
    "Try and motivate your exploration goals through this section."
   ]
  },
  {
   "cell_type": "code",
   "execution_count": 2,
   "metadata": {},
   "outputs": [],
   "source": [
    "#Load in dataset\n",
    "ford = pd.read_csv('ford_201908.csv')"
   ]
  },
  {
   "cell_type": "code",
   "execution_count": 3,
   "metadata": {},
   "outputs": [
    {
     "name": "stdout",
     "output_type": "stream",
     "text": [
      "Shape\n",
      "\n",
      "(210563, 16)\n",
      "----------------------------------------\n",
      "Data Types\n",
      "\n",
      "duration_sec                 int64\n",
      "start_time                  object\n",
      "end_time                    object\n",
      "start_station_id             int64\n",
      "start_station_name          object\n",
      "start_station_latitude     float64\n",
      "start_station_longitude    float64\n",
      "end_station_id               int64\n",
      "end_station_name            object\n",
      "end_station_latitude       float64\n",
      "end_station_longitude      float64\n",
      "bike_id                      int64\n",
      "user_type                   object\n",
      "member_birth_year          float64\n",
      "member_gender               object\n",
      "bike_share_for_all_trip     object\n",
      "dtype: object\n"
     ]
    }
   ],
   "source": [
    "#Overview of data\n",
    "print('Shape\\n')\n",
    "print(ford.shape)\n",
    "print(40*'-')\n",
    "print('Data Types\\n')\n",
    "print(ford.dtypes)"
   ]
  },
  {
   "cell_type": "code",
   "execution_count": 4,
   "metadata": {},
   "outputs": [
    {
     "data": {
      "text/html": [
       "<div>\n",
       "<style scoped>\n",
       "    .dataframe tbody tr th:only-of-type {\n",
       "        vertical-align: middle;\n",
       "    }\n",
       "\n",
       "    .dataframe tbody tr th {\n",
       "        vertical-align: top;\n",
       "    }\n",
       "\n",
       "    .dataframe thead th {\n",
       "        text-align: right;\n",
       "    }\n",
       "</style>\n",
       "<table border=\"1\" class=\"dataframe\">\n",
       "  <thead>\n",
       "    <tr style=\"text-align: right;\">\n",
       "      <th></th>\n",
       "      <th>duration_sec</th>\n",
       "      <th>start_time</th>\n",
       "      <th>end_time</th>\n",
       "      <th>start_station_id</th>\n",
       "      <th>start_station_name</th>\n",
       "      <th>start_station_latitude</th>\n",
       "      <th>start_station_longitude</th>\n",
       "      <th>end_station_id</th>\n",
       "      <th>end_station_name</th>\n",
       "      <th>end_station_latitude</th>\n",
       "      <th>end_station_longitude</th>\n",
       "      <th>bike_id</th>\n",
       "      <th>user_type</th>\n",
       "      <th>member_birth_year</th>\n",
       "      <th>member_gender</th>\n",
       "      <th>bike_share_for_all_trip</th>\n",
       "    </tr>\n",
       "  </thead>\n",
       "  <tbody>\n",
       "    <tr>\n",
       "      <th>0</th>\n",
       "      <td>68145</td>\n",
       "      <td>2019-08-31 21:27:42.2530</td>\n",
       "      <td>2019-09-01 16:23:27.4920</td>\n",
       "      <td>249</td>\n",
       "      <td>Russell St at College Ave</td>\n",
       "      <td>37.858473</td>\n",
       "      <td>-122.253253</td>\n",
       "      <td>247</td>\n",
       "      <td>Fulton St at Bancroft Way</td>\n",
       "      <td>37.867789</td>\n",
       "      <td>-122.265896</td>\n",
       "      <td>3112</td>\n",
       "      <td>Customer</td>\n",
       "      <td>NaN</td>\n",
       "      <td>NaN</td>\n",
       "      <td>No</td>\n",
       "    </tr>\n",
       "    <tr>\n",
       "      <th>1</th>\n",
       "      <td>53216</td>\n",
       "      <td>2019-08-31 22:34:17.5120</td>\n",
       "      <td>2019-09-01 13:21:13.9310</td>\n",
       "      <td>368</td>\n",
       "      <td>Myrtle St at Polk St</td>\n",
       "      <td>37.785434</td>\n",
       "      <td>-122.419622</td>\n",
       "      <td>78</td>\n",
       "      <td>Folsom St at 9th St</td>\n",
       "      <td>37.773717</td>\n",
       "      <td>-122.411647</td>\n",
       "      <td>2440</td>\n",
       "      <td>Customer</td>\n",
       "      <td>1993.0</td>\n",
       "      <td>Female</td>\n",
       "      <td>No</td>\n",
       "    </tr>\n",
       "    <tr>\n",
       "      <th>2</th>\n",
       "      <td>53182</td>\n",
       "      <td>2019-08-31 22:34:49.9420</td>\n",
       "      <td>2019-09-01 13:21:12.4570</td>\n",
       "      <td>368</td>\n",
       "      <td>Myrtle St at Polk St</td>\n",
       "      <td>37.785434</td>\n",
       "      <td>-122.419622</td>\n",
       "      <td>78</td>\n",
       "      <td>Folsom St at 9th St</td>\n",
       "      <td>37.773717</td>\n",
       "      <td>-122.411647</td>\n",
       "      <td>9743</td>\n",
       "      <td>Customer</td>\n",
       "      <td>1995.0</td>\n",
       "      <td>Male</td>\n",
       "      <td>No</td>\n",
       "    </tr>\n",
       "    <tr>\n",
       "      <th>3</th>\n",
       "      <td>75682</td>\n",
       "      <td>2019-08-31 14:22:02.2780</td>\n",
       "      <td>2019-09-01 11:23:24.5110</td>\n",
       "      <td>104</td>\n",
       "      <td>4th St at 16th St</td>\n",
       "      <td>37.767045</td>\n",
       "      <td>-122.390833</td>\n",
       "      <td>126</td>\n",
       "      <td>Esprit Park</td>\n",
       "      <td>37.761634</td>\n",
       "      <td>-122.390648</td>\n",
       "      <td>11418</td>\n",
       "      <td>Subscriber</td>\n",
       "      <td>1993.0</td>\n",
       "      <td>Female</td>\n",
       "      <td>No</td>\n",
       "    </tr>\n",
       "    <tr>\n",
       "      <th>4</th>\n",
       "      <td>30849</td>\n",
       "      <td>2019-08-31 18:47:08.0570</td>\n",
       "      <td>2019-09-01 03:21:17.6970</td>\n",
       "      <td>327</td>\n",
       "      <td>5th St at San Salvador St</td>\n",
       "      <td>37.332039</td>\n",
       "      <td>-121.881766</td>\n",
       "      <td>327</td>\n",
       "      <td>5th St at San Salvador St</td>\n",
       "      <td>37.332039</td>\n",
       "      <td>-121.881766</td>\n",
       "      <td>1553</td>\n",
       "      <td>Customer</td>\n",
       "      <td>NaN</td>\n",
       "      <td>NaN</td>\n",
       "      <td>No</td>\n",
       "    </tr>\n",
       "  </tbody>\n",
       "</table>\n",
       "</div>"
      ],
      "text/plain": [
       "   duration_sec                start_time                  end_time  \\\n",
       "0         68145  2019-08-31 21:27:42.2530  2019-09-01 16:23:27.4920   \n",
       "1         53216  2019-08-31 22:34:17.5120  2019-09-01 13:21:13.9310   \n",
       "2         53182  2019-08-31 22:34:49.9420  2019-09-01 13:21:12.4570   \n",
       "3         75682  2019-08-31 14:22:02.2780  2019-09-01 11:23:24.5110   \n",
       "4         30849  2019-08-31 18:47:08.0570  2019-09-01 03:21:17.6970   \n",
       "\n",
       "   start_station_id         start_station_name  start_station_latitude  \\\n",
       "0               249  Russell St at College Ave               37.858473   \n",
       "1               368       Myrtle St at Polk St               37.785434   \n",
       "2               368       Myrtle St at Polk St               37.785434   \n",
       "3               104          4th St at 16th St               37.767045   \n",
       "4               327  5th St at San Salvador St               37.332039   \n",
       "\n",
       "   start_station_longitude  end_station_id           end_station_name  \\\n",
       "0              -122.253253             247  Fulton St at Bancroft Way   \n",
       "1              -122.419622              78        Folsom St at 9th St   \n",
       "2              -122.419622              78        Folsom St at 9th St   \n",
       "3              -122.390833             126                Esprit Park   \n",
       "4              -121.881766             327  5th St at San Salvador St   \n",
       "\n",
       "   end_station_latitude  end_station_longitude  bike_id   user_type  \\\n",
       "0             37.867789            -122.265896     3112    Customer   \n",
       "1             37.773717            -122.411647     2440    Customer   \n",
       "2             37.773717            -122.411647     9743    Customer   \n",
       "3             37.761634            -122.390648    11418  Subscriber   \n",
       "4             37.332039            -121.881766     1553    Customer   \n",
       "\n",
       "   member_birth_year member_gender bike_share_for_all_trip  \n",
       "0                NaN           NaN                      No  \n",
       "1             1993.0        Female                      No  \n",
       "2             1995.0          Male                      No  \n",
       "3             1993.0        Female                      No  \n",
       "4                NaN           NaN                      No  "
      ]
     },
     "execution_count": 4,
     "metadata": {},
     "output_type": "execute_result"
    }
   ],
   "source": [
    "#Data structure\n",
    "ford.head()"
   ]
  },
  {
   "cell_type": "code",
   "execution_count": 5,
   "metadata": {},
   "outputs": [
    {
     "data": {
      "text/html": [
       "<div>\n",
       "<style scoped>\n",
       "    .dataframe tbody tr th:only-of-type {\n",
       "        vertical-align: middle;\n",
       "    }\n",
       "\n",
       "    .dataframe tbody tr th {\n",
       "        vertical-align: top;\n",
       "    }\n",
       "\n",
       "    .dataframe thead th {\n",
       "        text-align: right;\n",
       "    }\n",
       "</style>\n",
       "<table border=\"1\" class=\"dataframe\">\n",
       "  <thead>\n",
       "    <tr style=\"text-align: right;\">\n",
       "      <th></th>\n",
       "      <th>duration_sec</th>\n",
       "      <th>start_station_id</th>\n",
       "      <th>start_station_latitude</th>\n",
       "      <th>start_station_longitude</th>\n",
       "      <th>end_station_id</th>\n",
       "      <th>end_station_latitude</th>\n",
       "      <th>end_station_longitude</th>\n",
       "      <th>bike_id</th>\n",
       "      <th>member_birth_year</th>\n",
       "    </tr>\n",
       "  </thead>\n",
       "  <tbody>\n",
       "    <tr>\n",
       "      <th>count</th>\n",
       "      <td>210563.00000</td>\n",
       "      <td>210563.000000</td>\n",
       "      <td>210563.000000</td>\n",
       "      <td>210563.000000</td>\n",
       "      <td>210563.000000</td>\n",
       "      <td>210563.000000</td>\n",
       "      <td>210563.000000</td>\n",
       "      <td>210563.000000</td>\n",
       "      <td>170774.000000</td>\n",
       "    </tr>\n",
       "    <tr>\n",
       "      <th>mean</th>\n",
       "      <td>833.51472</td>\n",
       "      <td>144.829481</td>\n",
       "      <td>37.770058</td>\n",
       "      <td>-122.354407</td>\n",
       "      <td>140.921145</td>\n",
       "      <td>37.770268</td>\n",
       "      <td>-122.353604</td>\n",
       "      <td>4048.755897</td>\n",
       "      <td>1984.964450</td>\n",
       "    </tr>\n",
       "    <tr>\n",
       "      <th>std</th>\n",
       "      <td>1928.22378</td>\n",
       "      <td>120.128023</td>\n",
       "      <td>0.102810</td>\n",
       "      <td>0.217648</td>\n",
       "      <td>118.990674</td>\n",
       "      <td>0.102675</td>\n",
       "      <td>0.217245</td>\n",
       "      <td>3639.124465</td>\n",
       "      <td>10.037432</td>\n",
       "    </tr>\n",
       "    <tr>\n",
       "      <th>min</th>\n",
       "      <td>61.00000</td>\n",
       "      <td>3.000000</td>\n",
       "      <td>37.311284</td>\n",
       "      <td>-122.473658</td>\n",
       "      <td>3.000000</td>\n",
       "      <td>37.311284</td>\n",
       "      <td>-122.473658</td>\n",
       "      <td>12.000000</td>\n",
       "      <td>1878.000000</td>\n",
       "    </tr>\n",
       "    <tr>\n",
       "      <th>25%</th>\n",
       "      <td>376.00000</td>\n",
       "      <td>50.000000</td>\n",
       "      <td>37.770407</td>\n",
       "      <td>-122.412408</td>\n",
       "      <td>44.000000</td>\n",
       "      <td>37.770407</td>\n",
       "      <td>-122.411306</td>\n",
       "      <td>1312.000000</td>\n",
       "      <td>1980.000000</td>\n",
       "    </tr>\n",
       "    <tr>\n",
       "      <th>50%</th>\n",
       "      <td>593.00000</td>\n",
       "      <td>104.000000</td>\n",
       "      <td>37.780526</td>\n",
       "      <td>-122.398285</td>\n",
       "      <td>99.000000</td>\n",
       "      <td>37.780787</td>\n",
       "      <td>-122.397437</td>\n",
       "      <td>2629.000000</td>\n",
       "      <td>1987.000000</td>\n",
       "    </tr>\n",
       "    <tr>\n",
       "      <th>75%</th>\n",
       "      <td>914.00000</td>\n",
       "      <td>240.000000</td>\n",
       "      <td>37.795393</td>\n",
       "      <td>-122.294837</td>\n",
       "      <td>233.000000</td>\n",
       "      <td>37.797280</td>\n",
       "      <td>-122.294837</td>\n",
       "      <td>9241.000000</td>\n",
       "      <td>1992.000000</td>\n",
       "    </tr>\n",
       "    <tr>\n",
       "      <th>max</th>\n",
       "      <td>85492.00000</td>\n",
       "      <td>459.000000</td>\n",
       "      <td>45.510000</td>\n",
       "      <td>-73.570000</td>\n",
       "      <td>459.000000</td>\n",
       "      <td>45.510000</td>\n",
       "      <td>-73.570000</td>\n",
       "      <td>11945.000000</td>\n",
       "      <td>2001.000000</td>\n",
       "    </tr>\n",
       "  </tbody>\n",
       "</table>\n",
       "</div>"
      ],
      "text/plain": [
       "       duration_sec  start_station_id  start_station_latitude  \\\n",
       "count  210563.00000     210563.000000           210563.000000   \n",
       "mean      833.51472        144.829481               37.770058   \n",
       "std      1928.22378        120.128023                0.102810   \n",
       "min        61.00000          3.000000               37.311284   \n",
       "25%       376.00000         50.000000               37.770407   \n",
       "50%       593.00000        104.000000               37.780526   \n",
       "75%       914.00000        240.000000               37.795393   \n",
       "max     85492.00000        459.000000               45.510000   \n",
       "\n",
       "       start_station_longitude  end_station_id  end_station_latitude  \\\n",
       "count            210563.000000   210563.000000         210563.000000   \n",
       "mean               -122.354407      140.921145             37.770268   \n",
       "std                   0.217648      118.990674              0.102675   \n",
       "min                -122.473658        3.000000             37.311284   \n",
       "25%                -122.412408       44.000000             37.770407   \n",
       "50%                -122.398285       99.000000             37.780787   \n",
       "75%                -122.294837      233.000000             37.797280   \n",
       "max                 -73.570000      459.000000             45.510000   \n",
       "\n",
       "       end_station_longitude        bike_id  member_birth_year  \n",
       "count          210563.000000  210563.000000      170774.000000  \n",
       "mean             -122.353604    4048.755897        1984.964450  \n",
       "std                 0.217245    3639.124465          10.037432  \n",
       "min              -122.473658      12.000000        1878.000000  \n",
       "25%              -122.411306    1312.000000        1980.000000  \n",
       "50%              -122.397437    2629.000000        1987.000000  \n",
       "75%              -122.294837    9241.000000        1992.000000  \n",
       "max               -73.570000   11945.000000        2001.000000  "
      ]
     },
     "execution_count": 5,
     "metadata": {},
     "output_type": "execute_result"
    }
   ],
   "source": [
    "ford.describe()"
   ]
  },
  {
   "cell_type": "markdown",
   "metadata": {},
   "source": [
    "### What is the structure of your dataset?\n",
    "\n",
    "There are 210,563 different trips throughout August 2019. There are 16 features (duration_sec, start_time, end_time, start_station_id, start_station_name, start_station_latitude, start_station_longitude, end_station_id, end_station_name, end_station_latitude, end_station_longitude, bike_id, user_type, member_birth_year\tmember_gender, bike_share_for_all_trip). There are many numeric data values as well as values that need to be converted to date time. \n",
    "\n",
    "### What is/are the main feature(s) of interest in your dataset?\n",
    "\n",
    "I'm most interested in figuring out what the top features are for a trip's duration. \n",
    "\n",
    "### What features in the dataset do you think will help support your investigation into your feature(s) of interest?\n",
    "\n",
    "I expect the distance between stations has a large factor, as well as the start and end times. I also expect to find a trend among age groups, subcriber info, and days of travel as well."
   ]
  },
  {
   "cell_type": "markdown",
   "metadata": {},
   "source": [
    "## Univariate Exploration\n",
    "\n",
    "I'll start by looking at the distribution of the main variable of interest: Trip duration\n"
   ]
  },
  {
   "cell_type": "code",
   "execution_count": 6,
   "metadata": {},
   "outputs": [
    {
     "data": {
      "text/plain": [
       "1627"
      ]
     },
     "execution_count": 6,
     "metadata": {},
     "output_type": "execute_result"
    }
   ],
   "source": [
    "#Determine x limits of histogram\n",
    "len(ford.query('duration_sec > 5000'))"
   ]
  },
  {
   "cell_type": "markdown",
   "metadata": {},
   "source": [
    "There are a only 1627 trips out of nearly 211k that are greater that 5000 seconds in this data set. Therefore, we can set the x limits to focus on the bulk of our data"
   ]
  },
  {
   "cell_type": "code",
   "execution_count": 7,
   "metadata": {},
   "outputs": [
    {
     "data": {
      "image/png": "[encoded data removed]",
      "text/plain": [
       "<Figure size 576x360 with 1 Axes>"
      ]
     },
     "metadata": {
      "needs_background": "light"
     },
     "output_type": "display_data"
    }
   ],
   "source": [
    "#Plotting histogram of trip duration\n",
    "binsize = 100\n",
    "bins = np.arange(0, ford.duration_sec.max()+binsize, binsize)\n",
    "\n",
    "plt.figure(figsize=[8, 5])\n",
    "plt.hist(data = ford, x = 'duration_sec', bins = bins)\n",
    "plt.xlabel('Trip Duration (Seconds)')\n",
    "plt.xlim([0,5000])\n",
    "plt.show()"
   ]
  },
  {
   "cell_type": "code",
   "execution_count": 8,
   "metadata": {},
   "outputs": [
    {
     "data": {
      "image/png": "[encoded data removed]",
      "text/plain": [
       "<Figure size 576x360 with 1 Axes>"
      ]
     },
     "metadata": {
      "needs_background": "light"
     },
     "output_type": "display_data"
    }
   ],
   "source": [
    "#Log Normalize Right skewed data\n",
    "log_binsize = 0.05\n",
    "bins = 10 ** np.arange(1, np.log10(ford.duration_sec.max())+log_binsize, log_binsize)\n",
    "\n",
    "plt.figure(figsize=[8, 5])\n",
    "plt.hist(data = ford, x = 'duration_sec', bins = bins)\n",
    "plt.xscale('log')\n",
    "plt.xticks([10, 30, 100, 300, 1000, 3000, 10000, 30000, 100000], ['10', '30', '100', '300', '1k', '3k', '10k', '30k', '100k'])\n",
    "plt.xlabel('Duration (Seconds)')\n",
    "plt.show()"
   ]
  },
  {
   "cell_type": "code",
   "execution_count": 9,
   "metadata": {},
   "outputs": [
    {
     "data": {
      "text/plain": [
       "count    210563.00000\n",
       "mean        833.51472\n",
       "std        1928.22378\n",
       "min          61.00000\n",
       "25%         376.00000\n",
       "50%         593.00000\n",
       "75%         914.00000\n",
       "max       85492.00000\n",
       "Name: duration_sec, dtype: float64"
      ]
     },
     "execution_count": 9,
     "metadata": {},
     "output_type": "execute_result"
    }
   ],
   "source": [
    "ford.duration_sec.describe()"
   ]
  },
  {
   "cell_type": "markdown",
   "metadata": {},
   "source": [
    "We can see that duration has has a long-tailed distribution, with many of the trips being less than 1500 seconds, and few oon the higher end. When plotting on a log-scale, the duration distribution looks normalized with the peak occuring at the mean of around 600 seconds.  "
   ]
  },
  {
   "cell_type": "markdown",
   "metadata": {},
   "source": [
    "Next I'll look at the first predictor variable of interest: Trip distances"
   ]
  },
  {
   "cell_type": "code",
   "execution_count": 10,
   "metadata": {},
   "outputs": [],
   "source": [
    "#Vectorize the column data\n",
    "a = ford[['start_station_latitude','start_station_longitude']].values\n",
    "b = ford[['end_station_latitude','end_station_longitude']].values"
   ]
  },
  {
   "cell_type": "code",
   "execution_count": 11,
   "metadata": {},
   "outputs": [],
   "source": [
    "#Use geopy package to resolve longitude and latitude into miles\n",
    "dist = []\n",
    "for ind in range(0, len(a)):\n",
    "    dist.append(geodesic(a[ind],b[ind]).miles)"
   ]
  },
  {
   "cell_type": "code",
   "execution_count": 12,
   "metadata": {},
   "outputs": [],
   "source": [
    "#Create new column for distance\n",
    "ford['distance'] = dist"
   ]
  },
  {
   "cell_type": "code",
   "execution_count": 13,
   "metadata": {},
   "outputs": [
    {
     "data": {
      "text/plain": [
       "count    210563.000000\n",
       "mean          1.040749\n",
       "std           0.658768\n",
       "min           0.000000\n",
       "25%           0.579278\n",
       "50%           0.898188\n",
       "75%           1.362370\n",
       "max          41.918678\n",
       "Name: distance, dtype: float64"
      ]
     },
     "execution_count": 13,
     "metadata": {},
     "output_type": "execute_result"
    }
   ],
   "source": [
    "#Show distance data\n",
    "ford.describe().distance"
   ]
  },
  {
   "cell_type": "code",
   "execution_count": 14,
   "metadata": {},
   "outputs": [
    {
     "data": {
      "text/plain": [
       "9"
      ]
     },
     "execution_count": 14,
     "metadata": {},
     "output_type": "execute_result"
    }
   ],
   "source": [
    "#Find axes limits \n",
    "len(ford.query('distance > 6'))"
   ]
  },
  {
   "cell_type": "markdown",
   "metadata": {},
   "source": [
    "There are only 9 trips that were greater than 6 miles. Therefore, we do not have to show them on our histogram."
   ]
  },
  {
   "cell_type": "code",
   "execution_count": 15,
   "metadata": {},
   "outputs": [
    {
     "data": {
      "image/png": "[encoded data removed]",
      "text/plain": [
       "<Figure size 576x360 with 1 Axes>"
      ]
     },
     "metadata": {
      "needs_background": "light"
     },
     "output_type": "display_data"
    }
   ],
   "source": [
    "# start with a standard-scaled plot\n",
    "binsize = 0.1\n",
    "bins = np.arange(0, ford.distance.max()+binsize, binsize)\n",
    "\n",
    "plt.figure(figsize=[8, 5])\n",
    "plt.hist(data = ford, x = 'distance', bins = bins)\n",
    "plt.xlabel('Distance (Miles)')\n",
    "plt.xlim([0,6])\n",
    "plt.show()"
   ]
  },
  {
   "cell_type": "markdown",
   "metadata": {},
   "source": [
    "Here, the distance column we added shows that most trips hover between 0.5 and 1.5 miles. The data is right skewed, which means that the mean is greater than the median. This would occur from the outliers that skew the data. There is a noticeable jump from users, that travel less than 0.1 miles to users that travel more than 0.1 miles. \n",
    "\n",
    "Next, I'll compare the days of the week distribution, subscriber info, and the age distribution. I'll only be looking at the start date to determine trends. I expect that more people rent the bikes on the weekdays."
   ]
  },
  {
   "cell_type": "code",
   "execution_count": 16,
   "metadata": {},
   "outputs": [],
   "source": [
    "#Convert columns to datetime\n",
    "ford['start_time'] = pd.to_datetime(ford['start_time'])\n",
    "ford['end_time'] = pd.to_datetime(ford['end_time'])"
   ]
  },
  {
   "cell_type": "code",
   "execution_count": 17,
   "metadata": {},
   "outputs": [],
   "source": [
    "day_in_week = []\n",
    "for day in ford['start_time']:\n",
    "    day_in_week.append(calendar.day_name[day.weekday()])\n",
    "ford['day_in_week'] = day_in_week"
   ]
  },
  {
   "cell_type": "code",
   "execution_count": 18,
   "metadata": {},
   "outputs": [
    {
     "data": {
      "text/plain": [
       "count       210563\n",
       "unique           7\n",
       "top       Thursday\n",
       "freq         39472\n",
       "Name: day_in_week, dtype: object"
      ]
     },
     "execution_count": 18,
     "metadata": {},
     "output_type": "execute_result"
    }
   ],
   "source": [
    "ford['day_in_week'].describe()"
   ]
  },
  {
   "cell_type": "code",
   "execution_count": 28,
   "metadata": {},
   "outputs": [],
   "source": [
    "ford['age'] = 2019*np.ones(len(ford['member_birth_year']))-ford['member_birth_year']"
   ]
  },
  {
   "cell_type": "code",
   "execution_count": 44,
   "metadata": {},
   "outputs": [
    {
     "name": "stdout",
     "output_type": "stream",
     "text": [
      "----------------------------------------\n",
      "count    170774.000000\n",
      "mean         34.035550\n",
      "std          10.037432\n",
      "min          18.000000\n",
      "25%          27.000000\n",
      "50%          32.000000\n",
      "75%          39.000000\n",
      "max         141.000000\n",
      "Name: age, dtype: float64\n",
      "----------------------------------------\n",
      "Ages over 100\n",
      "117\n"
     ]
    }
   ],
   "source": [
    "#Investigate ages\n",
    "print('-'* 40)\n",
    "print(ford['age'].describe())\n",
    "print('-'* 40)\n",
    "print('Ages over 80')\n",
    "print(len(ford.query('age > 80')))"
   ]
  },
  {
   "cell_type": "code",
   "execution_count": null,
   "metadata": {},
   "outputs": [],
   "source": [
    "#Plot of other factors\n",
    "binsize = 5\n",
    "bins = np.arange(0, ford.member_birth_year.max()+binsize, binsize)\n",
    "fig, ax = plt.subplots(nrows=4, figsize = [8,8])\n",
    "\n",
    "default_color = sb.color_palette()[0]\n",
    "k = ['Sun', 'Mon', 'Tue', 'Wed', 'Thu', 'Fri', 'Sat']\n",
    "sb.countplot(data = ford, x = 'day_in_week', color = default_color, ax = ax[0], order = k.index)\n",
    "sb.countplot(data = ford , x = 'user_type', color = default_color, ax = ax[1])\n",
    "sb.countplot(data = ford, x = 'member_gender', color = default_color, ax = ax[2])\n",
    "plt.hist(data = ford, x = 'age', color = default_color, bins = bins)\n",
    "\n",
    "#Only 117 people over age 80 using the bikes, so do not include in hist\n",
    "plt.xlim([10, 80])\n",
    "plt.ylabel('count')\n",
    "plt.xlabel('Age (Years)')\n",
    "plt.show()"
   ]
  },
  {
   "cell_type": "code",
   "execution_count": null,
   "metadata": {},
   "outputs": [],
   "source": [
    "ford.start_station_name.value_counts()"
   ]
  },
  {
   "cell_type": "markdown",
   "metadata": {},
   "source": [
    "### Discuss the distribution(s) of your variable(s) of interest. Were there any unusual points? Did you need to perform any transformations?\n",
    "The time duration variable had a sweeping spread, so I used a log transformation to normalize the data. When transformed, the right skewed data turned into a plot that resembled a normal distribution with a higher concentration of points around the mean of 833.5 s. \n",
    "\n",
    "\n",
    "### Of the features you investigated, were there any unusual distributions? Did you perform any operations on the data to tidy, adjust, or change the form of the data? If so, why did you do this?\n",
    "\n",
    "> Your answer here!"
   ]
  },
  {
   "cell_type": "markdown",
   "metadata": {},
   "source": [
    "## Bivariate Exploration\n",
    "\n",
    "> In this section, investigate relationships between pairs of variables in your\n",
    "data. Make sure the variables that you cover here have been introduced in some\n",
    "fashion in the previous section (univariate exploration)."
   ]
  },
  {
   "cell_type": "code",
   "execution_count": null,
   "metadata": {},
   "outputs": [],
   "source": []
  },
  {
   "cell_type": "markdown",
   "metadata": {},
   "source": [
    "### Talk about some of the relationships you observed in this part of the investigation. How did the feature(s) of interest vary with other features in the dataset?\n",
    "\n",
    "> Your answer here!\n",
    "\n",
    "### Did you observe any interesting relationships between the other features (not the main feature(s) of interest)?\n",
    "\n",
    "> Your answer here!"
   ]
  },
  {
   "cell_type": "markdown",
   "metadata": {},
   "source": [
    "## Multivariate Exploration\n",
    "\n",
    "> Create plots of three or more variables to investigate your data even\n",
    "further. Make sure that your investigations are justified, and follow from\n",
    "your work in the previous sections."
   ]
  },
  {
   "cell_type": "code",
   "execution_count": null,
   "metadata": {},
   "outputs": [],
   "source": []
  },
  {
   "cell_type": "markdown",
   "metadata": {},
   "source": [
    "### Talk about some of the relationships you observed in this part of the investigation. Were there features that strengthened each other in terms of looking at your feature(s) of interest?\n",
    "\n",
    "> Your answer here!\n",
    "\n",
    "### Were there any interesting or surprising interactions between features?\n",
    "\n",
    "> Your answer here!"
   ]
  },
  {
   "cell_type": "markdown",
   "metadata": {},
   "source": [
    "> At the end of your report, make sure that you export the notebook as an\n",
    "html file from the `File > Download as... > HTML` menu. Make sure you keep\n",
    "track of where the exported file goes, so you can put it in the same folder\n",
    "as this notebook for project submission. Also, make sure you remove all of\n",
    "the quote-formatted guide notes like this one before you finish your report!"
   ]
  },
  {
   "cell_type": "code",
   "execution_count": null,
   "metadata": {},
   "outputs": [],
   "source": []
  }
 ],
 "metadata": {
  "kernelspec": {
   "display_name": "Python 3",
   "language": "python",
   "name": "python3"
  },
  "language_info": {
   "codemirror_mode": {
    "name": "ipython",
    "version": 3
   },
   "file_extension": ".py",
   "mimetype": "text/x-python",
   "name": "python",
   "nbconvert_exporter": "python",
   "pygments_lexer": "ipython3",
   "version": "3.7.3"
  }
 },
 "nbformat": 4,
 "nbformat_minor": 2
}
