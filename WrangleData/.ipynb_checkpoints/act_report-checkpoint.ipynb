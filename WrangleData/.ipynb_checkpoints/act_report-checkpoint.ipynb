{
 "cells": [
  {
   "cell_type": "code",
   "execution_count": null,
   "metadata": {},
   "outputs": [],
   "source": [
    "import pandas as pd"
   ]
  },
  {
   "cell_type": "code",
   "execution_count": null,
   "metadata": {},
   "outputs": [],
   "source": [
    "tweet_archive_master = pd.read_csv('tweet_archive_master.csv')"
   ]
  },
  {
   "cell_type": "code",
   "execution_count": null,
   "metadata": {},
   "outputs": [],
   "source": [
    "tweet_archive_master.head()"
   ]
  },
  {
   "cell_type": "markdown",
   "metadata": {},
   "source": [
    "Looking at dog_rates Twitter data, I found some interesting trends. \n",
    "\n",
    "First, the three most common dog types that were rated were Golden Retreievers, Labrador Retrievers, and Pembroke Welsh Corgis. This aligns well with data from the American Kennel Club because the 5 most popular dog types of 2018 are Labs in first and then Goldens in third. So there are probably more pictures of these dogs being sent to @dog_rates. The visualization can be found below:\n",
    "\n"
   ]
  },
  {
   "cell_type": "code",
   "execution_count": null,
   "metadata": {},
   "outputs": [],
   "source": [
    "fig = plt.pie(tweet_archive_master.p1.value_counts().head(8), labels = tweet_archive_master.p1.value_counts().head(8).index.tolist(), autopct = '%1.1f%%');\n",
    "plt.title('Top 8 Dog Types Tweeted by @dog_rates');"
   ]
  },
  {
   "cell_type": "markdown",
   "metadata": {},
   "source": [
    "Second, the most common @dog_rates classification for the dogs was pupper with 11% of the ratings including this classifier. Next was doggo with 4%, then pupper with 1%, and finally, floofer with 0.4%.  "
   ]
  }
 ],
 "metadata": {
  "kernelspec": {
   "display_name": "Python 3",
   "language": "python",
   "name": "python3"
  },
  "language_info": {
   "codemirror_mode": {
    "name": "ipython",
    "version": 3
   },
   "file_extension": ".py",
   "mimetype": "text/x-python",
   "name": "python",
   "nbconvert_exporter": "python",
   "pygments_lexer": "ipython3",
   "version": "3.7.3"
  }
 },
 "nbformat": 4,
 "nbformat_minor": 2
}
