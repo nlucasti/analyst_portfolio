{
 "cells": [
  {
   "cell_type": "markdown",
   "metadata": {},
   "source": [
    "Looking at dog_rates Twitter data, I found some interesting trends. \n",
    "\n",
    "First, the three most common dog types that were rated were Golden Retreievers, Labrador Retrievers, and Pembroke Welsh Corgis. This aligns well with data from the American Kennel Club because the 5 most popular dog types of 2018 are Labs in first and then Goldens in third. So there are probably more pictures of these dogs being sent to @dog_rates. The visualization can be found below:\n",
    "\n"
   ]
  },
  {
   "cell_type": "markdown",
   "metadata": {},
   "source": [
    "Second, the most common @dog_rates classification for the dogs was pupper with 11% of the ratings including this classifier. Next was doggo with 4%, then pupper with 1%, and finally, floofer with 0.4%. Finally, I wanted to see what the average rating was from @dog_rates. Of course, they have a unique way of rating images! It seems that the average rating sits at around 117%. This data was taken from the following table: "
   ]
  }
 ],
 "metadata": {
  "kernelspec": {
   "display_name": "Python 3",
   "language": "python",
   "name": "python3"
  },
  "language_info": {
   "codemirror_mode": {
    "name": "ipython",
    "version": 3
   },
   "file_extension": ".py",
   "mimetype": "text/x-python",
   "name": "python",
   "nbconvert_exporter": "python",
   "pygments_lexer": "ipython3",
   "version": "3.7.3"
  }
 },
 "nbformat": 4,
 "nbformat_minor": 2
}
